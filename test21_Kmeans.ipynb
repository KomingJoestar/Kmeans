{
 "cells": [
  {
   "cell_type": "markdown",
   "metadata": {},
   "source": [
    "# Kmeans算法实现"
   ]
  },
  {
   "cell_type": "code",
   "execution_count": 1,
   "metadata": {
    "collapsed": true
   },
   "outputs": [],
   "source": [
    "import numpy as np"
   ]
  },
  {
   "cell_type": "code",
   "execution_count": 2,
   "metadata": {
    "collapsed": true
   },
   "outputs": [],
   "source": [
    "#计算两点间的距离\n",
    "def distance(a, b):\n",
    "    return ((a[0] - b[0]) ** 2 + (a[1] - b[1]) ** 2) ** 0.5"
   ]
  },
  {
   "cell_type": "code",
   "execution_count": 3,
   "metadata": {
    "collapsed": true
   },
   "outputs": [],
   "source": [
    "#计算中心\n",
    "def means(a):\n",
    "    return np.array([np.mean([i[0] for i in a]), np.mean([i[1] for i in a])])"
   ]
  },
  {
   "cell_type": "code",
   "execution_count": 4,
   "metadata": {
    "collapsed": true
   },
   "outputs": [],
   "source": [
    "# arr距离a最远的元素，用于初始化聚类中心\n",
    "def farthest(k_arr, arr): #arr：全部散点；k_arr：其中m个作为中心的散点\n",
    "    f = [0, 0]\n",
    "    max_d = 0\n",
    "    for e in arr:\n",
    "        d = 0\n",
    "        for i in range(len(k_arr)):\n",
    "            d += (distance(k_arr[i], e)) ** 0.5\n",
    "        if d > max_d:\n",
    "            max_d = d\n",
    "            f = e\n",
    "    return f"
   ]
  },
  {
   "cell_type": "code",
   "execution_count": 72,
   "metadata": {},
   "outputs": [
    {
     "data": {
      "text/plain": [
       "array([[410, 686],\n",
       "       [ 33, 580],\n",
       "       [381, 550],\n",
       "       [406, 233],\n",
       "       [496, 309],\n",
       "       [608,  84],\n",
       "       [918, 598],\n",
       "       [949, 586],\n",
       "       [469,  27],\n",
       "       [476,  58]])"
      ]
     },
     "execution_count": 72,
     "metadata": {},
     "output_type": "execute_result"
    }
   ],
   "source": [
    "#随机生成二维散点数据\n",
    "np.random.seed(555)\n",
    "arr = np.random.randint(1000, size=(80, 1, 2))[:, 0, :]\n",
    "arr[:10]"
   ]
  },
  {
   "cell_type": "code",
   "execution_count": 73,
   "metadata": {
    "collapsed": true
   },
   "outputs": [],
   "source": [
    "## 初始化聚类中心和聚类容器\n",
    "m = 4 #要聚的类的数量\n",
    "r = np.random.randint(len(arr) - 1)\n",
    "k_arr = np.array([arr[r]])\n",
    "cla_arr = [[]]\n",
    "for i in range(m - 1):\n",
    "    k = farthest(k_arr, arr)\n",
    "    k_arr = np.concatenate([k_arr, np.array([k])])\n",
    "    cla_arr.append([])\n"
   ]
  },
  {
   "cell_type": "code",
   "execution_count": 74,
   "metadata": {
    "collapsed": true
   },
   "outputs": [],
   "source": [
    "## 迭代聚类\n",
    "n = 50\n",
    "cla_temp = cla_arr\n",
    "for i in range(n):    # 迭代n次\n",
    "    for e in arr:    # 把集合里每一个元素聚到最近的类\n",
    "        ki = 0        # 假定距离第一个中心最近\n",
    "        min_d = distance(e, k_arr[ki])\n",
    "        for j in range(1, len(k_arr)):\n",
    "            if distance(e, k_arr[j]) < min_d:    # 找到更近的聚类中心\n",
    "                min_d = distance(e, k_arr[j])\n",
    "                ki = j\n",
    "        cla_temp[ki].append(e)\n",
    "    # 迭代更新聚类中心\n",
    "    for k in range(len(k_arr)):\n",
    "        if n - 1 == i:\n",
    "            break\n",
    "        k_arr[k] = means(cla_temp[k])\n",
    "        cla_temp[k] = []"
   ]
  },
  {
   "cell_type": "code",
   "execution_count": 75,
   "metadata": {},
   "outputs": [
    {
     "data": {
      "image/png": "[encoded data removed]",
      "text/plain": [
       "<Figure size 432x288 with 1 Axes>"
      ]
     },
     "metadata": {},
     "output_type": "display_data"
    }
   ],
   "source": [
    "import matplotlib.pyplot as plt\n",
    "col = ['HotPink', 'Aqua', 'Chartreuse', 'yellow']\n",
    "for i in range(m):\n",
    "    plt.scatter(k_arr[i][0], k_arr[i][1], linewidth=10, color=col[i])\n",
    "    plt.scatter([e[0] for e in cla_temp[i]], [e[1] for e in cla_temp[i]], color=col[i])\n",
    "plt.show()"
   ]
  },
  {
   "cell_type": "code",
   "execution_count": null,
   "metadata": {
    "collapsed": true
   },
   "outputs": [],
   "source": []
  }
 ],
 "metadata": {
  "kernelspec": {
   "display_name": "Python 3",
   "language": "python",
   "name": "python3"
  },
  "language_info": {
   "codemirror_mode": {
    "name": "ipython",
    "version": 3
   },
   "file_extension": ".py",
   "mimetype": "text/x-python",
   "name": "python",
   "nbconvert_exporter": "python",
   "pygments_lexer": "ipython3",
   "version": "3.6.3"
  }
 },
 "nbformat": 4,
 "nbformat_minor": 2
}
